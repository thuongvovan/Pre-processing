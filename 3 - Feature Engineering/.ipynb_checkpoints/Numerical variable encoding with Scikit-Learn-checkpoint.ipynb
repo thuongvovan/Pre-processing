{
 "cells": [
  {
   "cell_type": "markdown",
   "metadata": {},
   "source": [
    "# MÃ HÓA BIẾN SỐ ĐỊNH LƯỢNG VỚI SCIKIT-LEARN"
   ]
  },
  {
   "cell_type": "markdown",
   "metadata": {},
   "source": [
    "Trong biên tập, xử lý và phân tích dữ liệu, một số trường hợp đòi hỏi nhà phân tích phải biến đổi một biến số liên tục sang biến số phân loại có từ hai hoặc nhiều nhóm.  \n",
    "Ví dụ: biến số BMI có thể biến đổi thành biến số phân loại tình trạng dinh dưỡng gồm các nhóm: thiếu cân (< 18,5), bình thường (18,50 - 22,99), thừa cân (23,00 - 24,99), béo phì độ I (25,00 - 29,99), béo phì độ II\t(30,00 - 39,99), béo phì độ III\t(≥ 40). Hoặc có thể biến đổi thành biến số Béo phì: Có (>= 25) và Không (< 25)."
   ]
  },
  {
   "cell_type": "code",
   "execution_count": 1,
   "metadata": {},
   "outputs": [
    {
     "data": {
      "text/html": [
       "<div>\n",
       "<style scoped>\n",
       "    .dataframe tbody tr th:only-of-type {\n",
       "        vertical-align: middle;\n",
       "    }\n",
       "\n",
       "    .dataframe tbody tr th {\n",
       "        vertical-align: top;\n",
       "    }\n",
       "\n",
       "    .dataframe thead th {\n",
       "        text-align: right;\n",
       "    }\n",
       "</style>\n",
       "<table border=\"1\" class=\"dataframe\">\n",
       "  <thead>\n",
       "    <tr style=\"text-align: right;\">\n",
       "      <th></th>\n",
       "      <th>gioi_tinh</th>\n",
       "      <th>ton_giao</th>\n",
       "      <th>bmi</th>\n",
       "    </tr>\n",
       "  </thead>\n",
       "  <tbody>\n",
       "    <tr>\n",
       "      <th>0</th>\n",
       "      <td>Nam</td>\n",
       "      <td>Khong</td>\n",
       "      <td>21.57</td>\n",
       "    </tr>\n",
       "    <tr>\n",
       "      <th>1</th>\n",
       "      <td>Nam</td>\n",
       "      <td>Cong_Giao</td>\n",
       "      <td>20.95</td>\n",
       "    </tr>\n",
       "    <tr>\n",
       "      <th>2</th>\n",
       "      <td>Nu</td>\n",
       "      <td>Khong</td>\n",
       "      <td>25.33</td>\n",
       "    </tr>\n",
       "    <tr>\n",
       "      <th>3</th>\n",
       "      <td>Nu</td>\n",
       "      <td>Khong</td>\n",
       "      <td>21.04</td>\n",
       "    </tr>\n",
       "    <tr>\n",
       "      <th>4</th>\n",
       "      <td>Nam</td>\n",
       "      <td>Khong</td>\n",
       "      <td>21.44</td>\n",
       "    </tr>\n",
       "  </tbody>\n",
       "</table>\n",
       "</div>"
      ],
      "text/plain": [
       "  gioi_tinh   ton_giao    bmi\n",
       "0       Nam      Khong  21.57\n",
       "1       Nam  Cong_Giao  20.95\n",
       "2        Nu      Khong  25.33\n",
       "3        Nu      Khong  21.04\n",
       "4       Nam      Khong  21.44"
      ]
     },
     "execution_count": 1,
     "metadata": {},
     "output_type": "execute_result"
    }
   ],
   "source": [
    "# Cho bộ dữ liệu mô phỏng gồm 3 biến số: gioi_tinh, dan_toc, bmi\n",
    "import pandas as pd\n",
    "import numpy as np\n",
    "\n",
    "data= pd.read_csv('data/bmi-simulation.csv', index_col= 0)\n",
    "data.head()"
   ]
  },
  {
   "cell_type": "markdown",
   "metadata": {},
   "source": [
    "## 1. Chuyển đổi biến liên tục thành biến nhị phân"
   ]
  },
  {
   "cell_type": "code",
   "execution_count": 2,
   "metadata": {},
   "outputs": [
    {
     "data": {
      "text/html": [
       "<div>\n",
       "<style scoped>\n",
       "    .dataframe tbody tr th:only-of-type {\n",
       "        vertical-align: middle;\n",
       "    }\n",
       "\n",
       "    .dataframe tbody tr th {\n",
       "        vertical-align: top;\n",
       "    }\n",
       "\n",
       "    .dataframe thead th {\n",
       "        text-align: right;\n",
       "    }\n",
       "</style>\n",
       "<table border=\"1\" class=\"dataframe\">\n",
       "  <thead>\n",
       "    <tr style=\"text-align: right;\">\n",
       "      <th></th>\n",
       "      <th>gioi_tinh</th>\n",
       "      <th>ton_giao</th>\n",
       "      <th>bmi</th>\n",
       "      <th>beo_phi</th>\n",
       "    </tr>\n",
       "  </thead>\n",
       "  <tbody>\n",
       "    <tr>\n",
       "      <th>0</th>\n",
       "      <td>Nam</td>\n",
       "      <td>Khong</td>\n",
       "      <td>21.57</td>\n",
       "      <td>0.0</td>\n",
       "    </tr>\n",
       "    <tr>\n",
       "      <th>1</th>\n",
       "      <td>Nam</td>\n",
       "      <td>Cong_Giao</td>\n",
       "      <td>20.95</td>\n",
       "      <td>0.0</td>\n",
       "    </tr>\n",
       "    <tr>\n",
       "      <th>2</th>\n",
       "      <td>Nu</td>\n",
       "      <td>Khong</td>\n",
       "      <td>25.33</td>\n",
       "      <td>1.0</td>\n",
       "    </tr>\n",
       "    <tr>\n",
       "      <th>3</th>\n",
       "      <td>Nu</td>\n",
       "      <td>Khong</td>\n",
       "      <td>21.04</td>\n",
       "      <td>0.0</td>\n",
       "    </tr>\n",
       "    <tr>\n",
       "      <th>4</th>\n",
       "      <td>Nam</td>\n",
       "      <td>Khong</td>\n",
       "      <td>21.44</td>\n",
       "      <td>0.0</td>\n",
       "    </tr>\n",
       "  </tbody>\n",
       "</table>\n",
       "</div>"
      ],
      "text/plain": [
       "  gioi_tinh   ton_giao    bmi  beo_phi\n",
       "0       Nam      Khong  21.57      0.0\n",
       "1       Nam  Cong_Giao  20.95      0.0\n",
       "2        Nu      Khong  25.33      1.0\n",
       "3        Nu      Khong  21.04      0.0\n",
       "4       Nam      Khong  21.44      0.0"
      ]
     },
     "execution_count": 2,
     "metadata": {},
     "output_type": "execute_result"
    }
   ],
   "source": [
    "from sklearn.preprocessing import Binarizer\n",
    "from sklearn.compose import ColumnTransformer\n",
    "binarizer= Binarizer(threshold= 24.9) # <= threshold = 0, > threshold = 1\n",
    "binarize_transformer= ColumnTransformer(transformers=[('Binarizer', binarizer, ['bmi'])])\n",
    "data['beo_phi']= binarize_transformer.fit_transform(data)\n",
    "data.head()"
   ]
  },
  {
   "cell_type": "markdown",
   "metadata": {},
   "source": [
    "Có thể map với 1 functin thông qua FunctionTransformer như ở mục 2"
   ]
  },
  {
   "cell_type": "markdown",
   "metadata": {},
   "source": [
    "## 2. Chuyển đổi biến liên tục thành biến phân loại (có thứ tự)"
   ]
  },
  {
   "cell_type": "markdown",
   "metadata": {},
   "source": [
    "### 2.1. Chuyển đổi theo các khoảng cho trước\n",
    "Chuyển đổi biến số bmi thành biến số tình trạng dinh dưỡng:\n",
    "- Thiếu cân (< 18,5)\n",
    "- Bình thường (18,50 - 22,99)\n",
    "- Thừa cân (23,00 - 24,99)\n",
    "- Béo phì độ I (25,00 - 29,99)\n",
    "- Béo phì độ II (30,00 - 39,99)\n",
    "- Béo phì độ III (≥ 40)"
   ]
  },
  {
   "cell_type": "code",
   "execution_count": 3,
   "metadata": {},
   "outputs": [],
   "source": [
    "# Function xác định tình trạng dinh dưỡng của mỗi người\n",
    "def tinh_trang_dinh_duong(bmi):\n",
    "    if bmi < 18.5:\n",
    "        ttdd= 'Thieu_can'\n",
    "    elif bmi >= 18.5 and bmi < 23:\n",
    "        ttdd= 'Binh_thuong'\n",
    "    elif bmi >= 23 and bmi < 25:\n",
    "        ttdd= 'Thua_can'\n",
    "    elif bmi >= 25 and bmi < 30:\n",
    "        ttdd= 'Beo_phi_do_1'\n",
    "    elif bmi >= 30 and bmi < 40:\n",
    "        ttdd= 'Beo_phi_do_2'\n",
    "    else:\n",
    "        ttdd= 'Beo_phi_do_3'\n",
    "    return ttdd\n"
   ]
  },
  {
   "cell_type": "code",
   "execution_count": 4,
   "metadata": {},
   "outputs": [
    {
     "data": {
      "text/html": [
       "<div>\n",
       "<style scoped>\n",
       "    .dataframe tbody tr th:only-of-type {\n",
       "        vertical-align: middle;\n",
       "    }\n",
       "\n",
       "    .dataframe tbody tr th {\n",
       "        vertical-align: top;\n",
       "    }\n",
       "\n",
       "    .dataframe thead th {\n",
       "        text-align: right;\n",
       "    }\n",
       "</style>\n",
       "<table border=\"1\" class=\"dataframe\">\n",
       "  <thead>\n",
       "    <tr style=\"text-align: right;\">\n",
       "      <th></th>\n",
       "      <th>gioi_tinh</th>\n",
       "      <th>ton_giao</th>\n",
       "      <th>bmi</th>\n",
       "      <th>beo_phi</th>\n",
       "      <th>tt_dinh_duong</th>\n",
       "    </tr>\n",
       "  </thead>\n",
       "  <tbody>\n",
       "    <tr>\n",
       "      <th>0</th>\n",
       "      <td>Nam</td>\n",
       "      <td>Khong</td>\n",
       "      <td>21.57</td>\n",
       "      <td>0.0</td>\n",
       "      <td>Binh_thuong</td>\n",
       "    </tr>\n",
       "    <tr>\n",
       "      <th>1</th>\n",
       "      <td>Nam</td>\n",
       "      <td>Cong_Giao</td>\n",
       "      <td>20.95</td>\n",
       "      <td>0.0</td>\n",
       "      <td>Binh_thuong</td>\n",
       "    </tr>\n",
       "    <tr>\n",
       "      <th>2</th>\n",
       "      <td>Nu</td>\n",
       "      <td>Khong</td>\n",
       "      <td>25.33</td>\n",
       "      <td>1.0</td>\n",
       "      <td>Beo_phi_do_1</td>\n",
       "    </tr>\n",
       "    <tr>\n",
       "      <th>3</th>\n",
       "      <td>Nu</td>\n",
       "      <td>Khong</td>\n",
       "      <td>21.04</td>\n",
       "      <td>0.0</td>\n",
       "      <td>Binh_thuong</td>\n",
       "    </tr>\n",
       "    <tr>\n",
       "      <th>4</th>\n",
       "      <td>Nam</td>\n",
       "      <td>Khong</td>\n",
       "      <td>21.44</td>\n",
       "      <td>0.0</td>\n",
       "      <td>Binh_thuong</td>\n",
       "    </tr>\n",
       "  </tbody>\n",
       "</table>\n",
       "</div>"
      ],
      "text/plain": [
       "  gioi_tinh   ton_giao    bmi  beo_phi tt_dinh_duong\n",
       "0       Nam      Khong  21.57      0.0   Binh_thuong\n",
       "1       Nam  Cong_Giao  20.95      0.0   Binh_thuong\n",
       "2        Nu      Khong  25.33      1.0  Beo_phi_do_1\n",
       "3        Nu      Khong  21.04      0.0   Binh_thuong\n",
       "4       Nam      Khong  21.44      0.0   Binh_thuong"
      ]
     },
     "execution_count": 4,
     "metadata": {},
     "output_type": "execute_result"
    }
   ],
   "source": [
    "from sklearn.preprocessing import FunctionTransformer\n",
    "from sklearn.compose import ColumnTransformer\n",
    "\n",
    "tt_dinh_duong_function_transformer= FunctionTransformer(func= lambda x: x.applymap(tinh_trang_dinh_duong))\n",
    "tt_dinh_duong_transformer= ColumnTransformer([('Tinh trang dinh duong',\n",
    "                                               tt_dinh_duong_function_transformer,\n",
    "                                               ['bmi'])])\n",
    "data['tt_dinh_duong']= tt_dinh_duong_transformer.fit_transform(data)\n",
    "data.head()"
   ]
  },
  {
   "cell_type": "markdown",
   "metadata": {},
   "source": [
    "### 2.2. Chuyển đổi dựa vào số lượng khoảng giá trị\n",
    "Chuyển đổi thành một số lượng các nhóm mà mỗi nhóm có chiều rộng bằng nhau trong phạm vi của biến số."
   ]
  },
  {
   "cell_type": "code",
   "execution_count": 5,
   "metadata": {},
   "outputs": [],
   "source": [
    "def assign_labels_function(x): #x: arr\n",
    "    label= {0: 'Thap', 1: 'Trung_binh',2: 'Cao',3: 'Rat_cao'}\n",
    "    ls_labels= []\n",
    "    for i in x:\n",
    "        ls_labels.append(label[i[0]])\n",
    "    return np.array(ls_labels).reshape(x.shape)"
   ]
  },
  {
   "cell_type": "code",
   "execution_count": 6,
   "metadata": {},
   "outputs": [],
   "source": [
    "from sklearn.preprocessing import KBinsDiscretizer, FunctionTransformer\n",
    "from sklearn.compose import ColumnTransformer\n",
    "from sklearn.pipeline import Pipeline\n",
    "\n",
    "uniform_k_bins_discretizer= KBinsDiscretizer(n_bins= 4, strategy= 'uniform', encode= 'ordinal')\n",
    "assign_labels= FunctionTransformer(func= assign_labels_function)\n",
    "\n",
    "pipe= Pipeline(steps= [('uniform_k_bins', uniform_k_bins_discretizer),\n",
    "                       ('assign_labels', assign_labels)])\n",
    "\n",
    "uniform_k_bins_discretizer_transformer= ColumnTransformer([('uniform_k_bins_discretizer',\n",
    "                                                            pipe,\n",
    "                                                            ['bmi'])])\n",
    "data['ordinal_var_1']= uniform_k_bins_discretizer_transformer.fit_transform(data)"
   ]
  },
  {
   "cell_type": "code",
   "execution_count": 7,
   "metadata": {},
   "outputs": [
    {
     "data": {
      "text/html": [
       "<div>\n",
       "<style scoped>\n",
       "    .dataframe tbody tr th:only-of-type {\n",
       "        vertical-align: middle;\n",
       "    }\n",
       "\n",
       "    .dataframe tbody tr th {\n",
       "        vertical-align: top;\n",
       "    }\n",
       "\n",
       "    .dataframe thead th {\n",
       "        text-align: right;\n",
       "    }\n",
       "</style>\n",
       "<table border=\"1\" class=\"dataframe\">\n",
       "  <thead>\n",
       "    <tr style=\"text-align: right;\">\n",
       "      <th></th>\n",
       "      <th>gioi_tinh</th>\n",
       "      <th>ton_giao</th>\n",
       "      <th>bmi</th>\n",
       "      <th>beo_phi</th>\n",
       "      <th>tt_dinh_duong</th>\n",
       "      <th>ordinal_var_1</th>\n",
       "    </tr>\n",
       "  </thead>\n",
       "  <tbody>\n",
       "    <tr>\n",
       "      <th>0</th>\n",
       "      <td>Nam</td>\n",
       "      <td>Khong</td>\n",
       "      <td>21.57</td>\n",
       "      <td>0.0</td>\n",
       "      <td>Binh_thuong</td>\n",
       "      <td>Trung_binh</td>\n",
       "    </tr>\n",
       "    <tr>\n",
       "      <th>1</th>\n",
       "      <td>Nam</td>\n",
       "      <td>Cong_Giao</td>\n",
       "      <td>20.95</td>\n",
       "      <td>0.0</td>\n",
       "      <td>Binh_thuong</td>\n",
       "      <td>Trung_binh</td>\n",
       "    </tr>\n",
       "    <tr>\n",
       "      <th>2</th>\n",
       "      <td>Nu</td>\n",
       "      <td>Khong</td>\n",
       "      <td>25.33</td>\n",
       "      <td>1.0</td>\n",
       "      <td>Beo_phi_do_1</td>\n",
       "      <td>Cao</td>\n",
       "    </tr>\n",
       "    <tr>\n",
       "      <th>3</th>\n",
       "      <td>Nu</td>\n",
       "      <td>Khong</td>\n",
       "      <td>21.04</td>\n",
       "      <td>0.0</td>\n",
       "      <td>Binh_thuong</td>\n",
       "      <td>Trung_binh</td>\n",
       "    </tr>\n",
       "    <tr>\n",
       "      <th>4</th>\n",
       "      <td>Nam</td>\n",
       "      <td>Khong</td>\n",
       "      <td>21.44</td>\n",
       "      <td>0.0</td>\n",
       "      <td>Binh_thuong</td>\n",
       "      <td>Trung_binh</td>\n",
       "    </tr>\n",
       "  </tbody>\n",
       "</table>\n",
       "</div>"
      ],
      "text/plain": [
       "  gioi_tinh   ton_giao    bmi  beo_phi tt_dinh_duong ordinal_var_1\n",
       "0       Nam      Khong  21.57      0.0   Binh_thuong    Trung_binh\n",
       "1       Nam  Cong_Giao  20.95      0.0   Binh_thuong    Trung_binh\n",
       "2        Nu      Khong  25.33      1.0  Beo_phi_do_1           Cao\n",
       "3        Nu      Khong  21.04      0.0   Binh_thuong    Trung_binh\n",
       "4       Nam      Khong  21.44      0.0   Binh_thuong    Trung_binh"
      ]
     },
     "execution_count": 7,
     "metadata": {},
     "output_type": "execute_result"
    }
   ],
   "source": [
    "data.head()"
   ]
  },
  {
   "cell_type": "markdown",
   "metadata": {},
   "source": [
    "Chuyển đổi dựa vào khoảng phân vị thì sử dụng strategy = 'quantile'  \n",
    "Lớp này còn hỗ trợ phân cụm bằng thuật toán Kmean khi truyền đối số 'kmeans' vào cho tham số strategy."
   ]
  }
 ],
 "metadata": {
  "kernelspec": {
   "display_name": "Python 3",
   "language": "python",
   "name": "python3"
  },
  "language_info": {
   "codemirror_mode": {
    "name": "ipython",
    "version": 3
   },
   "file_extension": ".py",
   "mimetype": "text/x-python",
   "name": "python",
   "nbconvert_exporter": "python",
   "pygments_lexer": "ipython3",
   "version": "3.7.4"
  }
 },
 "nbformat": 4,
 "nbformat_minor": 2
}
