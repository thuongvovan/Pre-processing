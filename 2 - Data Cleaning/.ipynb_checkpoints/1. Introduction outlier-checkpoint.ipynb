{
 "cells": [
  {
   "cell_type": "markdown",
   "metadata": {},
   "source": [
    "# GIÁ TRỊ NGOẠI LAI (OUTLIER)"
   ]
  },
  {
   "cell_type": "markdown",
   "metadata": {},
   "source": [
    "## Giá trị ngoại lai là gì?\n",
    "![](image/outlier_1.png \"outlier\")  \n",
    "  \n",
    "Giá trị ngoại lai (outlier) là điểm dữ liệu có giá trị khác so với các quan sát còn lại trong tập dữ liệu. Có thể có một hoặc nhiều giá trị ngoại lai trong một tập dữ liệu."
   ]
  },
  {
   "cell_type": "markdown",
   "metadata": {},
   "source": [
    "## Nguyên nhân của các giá trị ngoại lai  \n",
    "- Do sai sót: Trong quá trình thu thập, nhập liệu hoặc truyền tải dữ liệu đã xảy ra sai sót dẫn đến xuất hiện những giá trị ngoại lai. Ví dụ 1: trong một khảo sát về chiều cao và cân nặng, mỗi người tự khai báo thông tin chiều cao của mình theo đơn vị centimet vào phần mềm tuy nhiên vì không đọc kỹ hướng dẫn mà một người đã nhập thông tin chiều cao của mình theo đơn vị met do đó cột dữ liệu chiều cao xuất hiện giá trị ngoại lai cực tiểu. Một người khác nhập thông tin cân nặng của mình bị dư một số 0 mà do đó cột dữ liệu cân nặng xuất hiện giá trị cực đại. Các giá trị ngoại lai xuất hiện do nguyên nhân này sẽ không đại diện cho bất kỳ đối tượng nào trong dân số.\n",
    "- Các sai lệch tự nhiên trong dân số: Trong trường hợp không xảy ra sai sót trong quá trình thu thập, nhập liệu và truyền tải dữ liệu thì vẫn xuất hiện các giá trị ngoại lai. Các giá trị này xuất hiện theo một cách ngẫu nhiên trong tự nhiên và nó có thể đại diện cho một phần nhỏ trong dân số. Ví dụ: Cân nặng của các loài động vật thì có lẽ cá voi sẽ là điểm dữ liệu ngoại lai cực đại còn kiến có thể là điểm dữ liệu ngoại lai cực tiểu."
   ]
  },
  {
   "cell_type": "markdown",
   "metadata": {},
   "source": [
    "## Xác định giá trị ngoại lai"
   ]
  },
  {
   "cell_type": "markdown",
   "metadata": {},
   "source": [
    "Trước khi tìm hiểu về các phương pháp xác định giá trị ngoại lai thì trước hết cần hiểu mục đích của việc xác định các giá trị ngoại lai.  \n",
    "Các giá trị ngoại lai có thể là nguyên nhân gây ra sự vi phạm các giả thiết của mô hình hồi quy và làm giảm độ chính xác của mô hình dự báo. Xác định và xử lý dữ liệu ngoại lai là bước quan trọng trong mô hình dự đoán giúp cho mô hình có độ chính xác cao hơn.  \n",
    "Trong khai phá dữ liệu, việc phát hiện các giá trị ngoại lai có thể ứng dụng để phát hiện những sự việc bất thường như lỗi của hệ thống; trong quản trị mạng thì dữ liệu của những truy cập bất thường có thể là những truy cập trái phép hoặc tấn công mạng, trong y khoa dấu hiệu bất thường của những chỉ số sinh hiệu hoặc hình ảnh có thể là dấu hiệu bệnh lý; trong dự báo thời tiết và môi trường thì những dấu hiệu bất thường có thể là dấu hiệu của một loại thiên tai; ...."
   ]
  },
  {
   "cell_type": "markdown",
   "metadata": {},
   "source": [
    "Với sự phát triển của thống kê và khoa học dữ liệu, việc nhận diện và xử lý giá trị ngoại lai cũng đã được quan tâm và phát triển từ lâu. Có nhiều phương pháp để xác định giá trị ngoại lai theo công thức toán học hoặc trực quan đã được phát triển tuy nhiên việc xác định giá trị ngoại lai vẫn phụ thuộc phần lớn vào kiến thức, sự hiểu biết trong lĩnh vực của nhà nghiên cứu/nhà phân tích. Chưa có một công thức toán học nào có thể áp dụng để xác định được giá trị ngoại lai một cách chính xác cho tất cả mọi trường hợp.  \n",
    "Xác định giá trị ngoại lai được thực hiện trong một biến số đơn lẻ hoặc trong mối quan hệ của tổ hợp giữa hai hoặc nhiều biến số khác nhau.  \n",
    "__Ví dụ:__\n",
    "- Xác định giá trị ngoại lai trong một biến đơn lẻ:\n",
    "![](image/outlier_1variable.png \"outlier\")  \n",
    "- Xác định giá trị ngoại lai trong mỗi quan hệ với một biến số liên tục:\n",
    "![](image/outlier_1.png \"outlier\")  \n",
    "- Xác định giá trị ngoại lai trong mỗi quan hệ với một biến số phân loại:\n",
    "![](image/outlier_2variable_2.png \"outlier\")  "
   ]
  },
  {
   "cell_type": "markdown",
   "metadata": {},
   "source": [
    "__Phân loại các phương pháp xác định giá trị ngoại lai:__ Trong cuốn [Outlier Detection: Techniques and Applications](https://www.amazon.com/Outlier-Detection-Applications-Perspective-Intelligent/dp/3030051250) của tác giả N. N. R. Ranga Suri xuất bản năm 2019 có phân loại các phương pháp xác định giá trị ngoại lai như sau:  \n",
    "![](image/taxonomy_outlier_detection_methods.png \"outlier\")  \n",
    "Trong cuốn [Outlier Analysis](https://www.amazon.com/dp/3319475770/) của tác giá Charu Aggarwal có cách phân loại khác tuy nhiên mình thấy chưa được tổng quát như phân loại ở trên nên."
   ]
  },
  {
   "cell_type": "markdown",
   "metadata": {},
   "source": [
    "- __Statistical Models:__ xác định/giả định một phân phối cho biến số (normal distribution, Bernoulli distribution, poisson distribution, ...) sau đó ước lượng xác suất xuất hiện của các phần từ của tập dữ liệu. Phần tử nào có xác xuất ước tính theo phân phối thấp sẽ được coi là giá trị ngoại lai.  \n",
    "![](image/statistical_models.png \"outlier\")  \n",
    "- __Distance-Based Methods:__ Với phương pháp này, một điểm dữ liệu được coi là giá trị ngoại lai khi có ít hơn k điểm dữ liệu có khoảng cách nhỏ hơn hoặc bằng d đến điểm dữ liệu đó. Phương pháp này không sử dụng đến các giả định phân phối của dữ liệu tuy nhiên cần xác định khoảng cách d và số lượng k điểm để xác định ngoại lai.\n",
    "![](image/distance_based_methods.png \"outlier\")  \n",
    "- __Density-Based Methods:__ Phương pháp này tính toán mật độ của một điểm dữ liệu với các điểm lân cận chúng. Nếu mật độ tại điểm đó thấp hơn nhiều so với mật độ của các điểm lân cận thì điểm dữ liệu đó được xác định là điểm giá trị ngoại lai.\n",
    "![](image/density_based_methods.png \"outlier\")  \n",
    "- __Clustering-Based Methods:__ Phương pháp này xem xét các cụm có kích thước nhỏ như các ngoại lai. Phương pháp này có thể phát hiện ra các ngoại lai tuy nhiên chưa thể được ra được đánh giá về mức độ lệch của các cụm."
   ]
  },
  {
   "cell_type": "markdown",
   "metadata": {},
   "source": [
    "## Xử lý các giá trị ngoại lai"
   ]
  },
  {
   "cell_type": "markdown",
   "metadata": {},
   "source": [
    "Các dữ liệu ngoại lai xuất hiện do các sai sót trong quá trình thu thập, xử lý, truyền tải dữ liệu cần được xử lý (điều chỉnh hoặc loại bỏ khỏi dữ liệu phân tích). Các dữ liệu ngoại lai là sai số nhẫu nhiên của mẫu cần được cân nhắc, đánh giá dựa vào kiến thức và sự hiểu biết chuyên ngành để có phương pháp xử lý phù hợp.\n",
    "Một số phương pháp xử lý giá trị ngoại lai như sau:\n",
    "- Xóa bỏ các dòng dữ liệu chứa giá trị ngoại lai.  \n",
    "- Thay thế bằng giá trị trung bình.\n",
    "- Thay thế bằng giá trị trung vị.\n",
    "- Thay thế bằng giá trị ngẫu nhiên.\n",
    "- Thay thế bằng giá trị phù hợp gần nhất.\n",
    "- Chuyển đổi thành biến số rời rạc (binning)."
   ]
  }
 ],
 "metadata": {
  "kernelspec": {
   "display_name": "Python 3",
   "language": "python",
   "name": "python3"
  },
  "language_info": {
   "codemirror_mode": {
    "name": "ipython",
    "version": 3
   },
   "file_extension": ".py",
   "mimetype": "text/x-python",
   "name": "python",
   "nbconvert_exporter": "python",
   "pygments_lexer": "ipython3",
   "version": "3.7.4"
  }
 },
 "nbformat": 4,
 "nbformat_minor": 2
}
